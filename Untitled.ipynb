{
 "cells": [
  {
   "cell_type": "code",
   "execution_count": null,
   "id": "a6e3e61a",
   "metadata": {},
   "outputs": [],
   "source": []
  },
  {
   "cell_type": "code",
   "execution_count": 1,
   "id": "de38198d",
   "metadata": {},
   "outputs": [
    {
     "name": "stdout",
     "output_type": "stream",
     "text": [
      "Please enter first number: 56\n",
      "factor(*,/,-,+,^): *\n",
      "Enter your secound digit235\n",
      "56 * 235 is 13160\n",
      "Press yes to continue and no to exit: no\n"
     ]
    }
   ],
   "source": [
    "while(True):\n",
    "    num1 = int(input(\"Please enter first number: \"))\n",
    "    factor = input(\"factor(*,/,-,+,^): \")\n",
    "    num2 = int(input(\"Enter your secound digit\"))\n",
    "    \n",
    "    if(factor ==\"*\"):\n",
    "        print(f\"{num1} * {num2} is\", num1*num2)\n",
    "    elif(factor==\"/\"):\n",
    "        print(f\"{num1} / {num2} is\", num1/num2)\n",
    "    elif(factor==\"-\"):\n",
    "        print(f\"{num1} - {num2} is\", num1-num2)\n",
    "    elif(factor==\"+\"):\n",
    "        print(f\"{num1} + {num2} is\", num1+num2)\n",
    "    inp = input(\"Press yes to continue and no to exit: \")\n",
    "    if(inp==\"no\"):\n",
    "       break\n",
    "    elif(inp==\"yes\"):\n",
    "       continue\n",
    "    else:\n",
    "        print(\"Invalid Input\")"
   ]
  },
  {
   "cell_type": "code",
   "execution_count": 4,
   "id": "0ba707ba",
   "metadata": {},
   "outputs": [
    {
     "name": "stdout",
     "output_type": "stream",
     "text": [
      "(1, 'Tuple', 2, 'List', 3, 'Dict', 4, 'Set')\n"
     ]
    }
   ],
   "source": [
    "Tuple = (1,\"Tuple\",2,\"List\",3,\"Dict\",4,\"Set\")\n",
    "print(Tuple)"
   ]
  },
  {
   "cell_type": "code",
   "execution_count": 3,
   "id": "715495bb",
   "metadata": {},
   "outputs": [
    {
     "data": {
      "text/plain": [
       "0"
      ]
     },
     "execution_count": 3,
     "metadata": {},
     "output_type": "execute_result"
    }
   ],
   "source": [
    "List = [1,2,3,4,5,7,8]\n",
    "List[0]\n",
    "List.append(30)\n",
    "List.index(1)\n"
   ]
  },
  {
   "cell_type": "code",
   "execution_count": 6,
   "id": "df2c0826",
   "metadata": {},
   "outputs": [
    {
     "name": "stdout",
     "output_type": "stream",
     "text": [
      "{1, 2, 'DL', 'ML', 'DSA'}\n"
     ]
    },
    {
     "data": {
      "text/plain": [
       "set"
      ]
     },
     "execution_count": 6,
     "metadata": {},
     "output_type": "execute_result"
    }
   ],
   "source": [
    "Set = {1,2,\"ML\",\"DL\",\"DSA\"}\n",
    "print(Set)\n",
    "type(Set)"
   ]
  },
  {
   "cell_type": "code",
   "execution_count": 7,
   "id": "3c66eeb1",
   "metadata": {},
   "outputs": [
    {
     "name": "stdout",
     "output_type": "stream",
     "text": [
      "{'Emp_name': 'Rohan', 'Emp_id': 101, 'Salary': '20000$'}\n"
     ]
    }
   ],
   "source": [
    "Dict = {\"Emp_name\":\"Rohan\",\"Emp_id\":101,\"Salary\":\"20000$\"}\n",
    "print(Dict)\n",
    "print(len(Dict))\n",
    "Dict[\"Salary\"] = \"30000$\"\n"
   ]
  },
  {
   "cell_type": "code",
   "execution_count": 4,
   "id": "94f4335f",
   "metadata": {},
   "outputs": [
    {
     "name": "stdout",
     "output_type": "stream",
     "text": [
      "Hi Everybody I am Rahul Gorain. I am interested in Machine Learning and Deep Learning.\n",
      "I have analytical skills.\n"
     ]
    }
   ],
   "source": [
    "r = open(\"fox.txt\",\"r\")\n",
    "print(r.read())\n",
    "r.close()"
   ]
  },
  {
   "cell_type": "code",
   "execution_count": 7,
   "id": "8a1ab5c9",
   "metadata": {},
   "outputs": [],
   "source": [
    "file = open(\"fox.txt\",\"w\")\n",
    "file.write(\"I am Rahul. I love programming\")\n",
    "file.close()"
   ]
  },
  {
   "cell_type": "code",
   "execution_count": 9,
   "id": "64763820",
   "metadata": {},
   "outputs": [],
   "source": [
    "file1 = open(\"fox.txt\",\"rb\")\n",
    "file1.close()"
   ]
  }
 ],
 "metadata": {
  "kernelspec": {
   "display_name": "Python 3 (ipykernel)",
   "language": "python",
   "name": "python3"
  },
  "language_info": {
   "codemirror_mode": {
    "name": "ipython",
    "version": 3
   },
   "file_extension": ".py",
   "mimetype": "text/x-python",
   "name": "python",
   "nbconvert_exporter": "python",
   "pygments_lexer": "ipython3",
   "version": "3.10.4"
  }
 },
 "nbformat": 4,
 "nbformat_minor": 5
}
